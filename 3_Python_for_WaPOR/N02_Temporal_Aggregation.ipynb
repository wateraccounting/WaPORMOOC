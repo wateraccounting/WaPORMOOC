{
  "cells": [
    {
      "cell_type": "markdown",
      "metadata": {
        "id": "KfyYPA9XRluP"
      },
      "source": [
        "#**Using Python libraries for Handling WaPOR Data**\n",
        "\n",
        "[![](https://raw.githubusercontent.com//wateraccounting/WaPORMOOC/main/images/colab-badge.png)](https://colab.research.google.com/github/wateraccounting/WaPORMOOC/blob/main/3_Python_for_WaPOR/N02_Temporal_Aggregation.ipynb?target=\"_blank\")\n",
        "\n",
        "#Notebook 2 : Temporal data aggregation\n",
        "\n",
        "In this Notebook we will show you how to do temporal aggregation of WaPOR data.  \n",
        "\n",
        "The steps we are going to follow are:\n",
        "1. Install and load necessary packages to manage rasterfiles\n",
        "2. Load the .zip file with the required data for the Wad Helal area to this session (see details below)\n",
        "3. Unzip the files\n",
        "4. Open and inspect one .tif file\n",
        ">+Exercise 1 (answers needed for the MOOC quiz)\n",
        "5. Perform the temporal aggregation (sum) of the dekadal AETI & export result to local drive\n",
        ">+Exercise 2 (answers needed for the MOOC quiz)\n",
        "6. More detailed temporal aggregation by date\n",
        ">+Exercise 3 (answers needed for the MOOC quiz)\n",
        "7. Open and inspect the result in QGIS\n",
        ">+Quiz question (answer needed for the MOOC quiz)\n",
        "\n",
        "**Data needed:**\n",
        "\n",
        "For the exercises of the [MOOC Python for geospatial analyses using WaPOR data](https://ocw.un-ihe.org/course/view.php?id=272) you can download the data using the file  \\\"Wad_Helal.geojson\\\" located in the data folder of [WaPORMOOC](https://github.com/wateraccounting/WaPORMOOC/tree/main/data) for the area (Wad Helal) using the [Download_WaPORv3_Data Notebook](https://github.com/wateraccounting/WaPORMOOC/blob/main/1_WaPOR_download_colab/Download_WaPORv3_Data.ipynb) :\n",
        "1. **Area:** Wad Helal in the Gezira Irrigation Scheme.\n",
        "2. **Type of Data:** AETI\n",
        "3. **Spatial resolution:** Level 3\n",
        "4. **Temporal resolution:** dekadal\n",
        "5. **Start date:** 2022-10-01\n",
        "6. **End date:** 2023-04-30\n",
        "\n",
        " © 2024 IHE Delft Licenced under CC BY SA Creative Commons"
      ]
    },
    {
      "cell_type": "markdown",
      "metadata": {},
      "source": [
        "---"
      ]
    },
    {
      "cell_type": "markdown",
      "metadata": {
        "id": "vKuf17_1sfgl"
      },
      "source": [
        "### **Step 1**\n"
      ]
    },
    {
      "cell_type": "code",
      "execution_count": null,
      "metadata": {
        "id": "V7_8Eec-sh6y"
      },
      "outputs": [],
      "source": [
        "!pip install rioxarray --quiet"
      ]
    },
    {
      "cell_type": "code",
      "execution_count": null,
      "metadata": {
        "id": "leom989Lsmck"
      },
      "outputs": [],
      "source": [
        "import os\n",
        "import glob\n",
        "import datetime\n",
        "import xarray as xr\n",
        "import rioxarray as rio\n",
        "import numpy as np\n",
        "import matplotlib.pyplot as plt\n",
        "from google.colab import files"
      ]
    },
    {
      "cell_type": "markdown",
      "metadata": {
        "id": "D0Q2vhKSSnax"
      },
      "source": [
        "### **Step 2 - Create a .zip file/Upload an existing .zip files**\n",
        "We will now upload a .zip file containing a series of .tif files to our session: data.zip.\n",
        "   \n",
        "Execute the command below and navigate to where you have saved the .zip file from Topic3_N01 in your local drive.\n",
        "\n",
        "(If you are uploading your own .tif files, you can first create a .zip archive from these files, you may need to install compression software such as 7zip (https://www.7-zip.org/) or WinRAR (https://www.win-rar.com/) to perform this operation.)"
      ]
    },
    {
      "cell_type": "code",
      "execution_count": null,
      "metadata": {
        "id": "Kmk8F9TJTKqp"
      },
      "outputs": [],
      "source": [
        "#To upload file.\n",
        "uploaded = files.upload()"
      ]
    },
    {
      "cell_type": "markdown",
      "metadata": {
        "id": "S2WNbvDpT9hA"
      },
      "source": [
        "### **Step 3 - Unzip files**\n",
        "Unzip the file you have uploaded.\n",
        "The command is:\n",
        " !unzip 'file_path.zip' -d 'folder_to_unzip_path'\n",
        "Replace the file name in the cell below with the name of your own file. You can find the path to your file by clicking on the 3 dots next to the file name in your file explorer to the left and selecting *Copy path*. (If you do not see your files to the left, click on the folder icon to expand the Files panel).\n"
      ]
    },
    {
      "cell_type": "code",
      "execution_count": null,
      "metadata": {
        "id": "MOMfTjI-UIBB"
      },
      "outputs": [],
      "source": [
        "# unzip the uploaded zipfile\n",
        "!unzip '/content/data.zip' -d '/content/'"
      ]
    },
    {
      "cell_type": "markdown",
      "metadata": {
        "id": "HJCsG4aurUMc"
      },
      "source": [
        "### **Step 4 - Opening and inspecting one .tif file**\n",
        "Before performing any operations let us open one of our TIFF files using the rioxarray package.\n",
        "\n",
        "**NOTE**: all paths used in the following script are based on where the files are located when following all steps, if your data is stored elsewhere you have to update the relative path"
      ]
    },
    {
      "cell_type": "code",
      "execution_count": null,
      "metadata": {
        "id": "GxANcubTvWAh"
      },
      "outputs": [],
      "source": [
        "# Open first raster from your unzipped files and mask out nan values\n",
        "ds = rio.open_rasterio('/content/content/output/L3-AETI-D/Wad_Helal.GEZ_L3-AETI-D_NONE_dekad_converted_2022-10-01.tif')\n",
        "ds = ds.where(ds!=ds.attrs['_FillValue'])"
      ]
    },
    {
      "cell_type": "code",
      "execution_count": null,
      "metadata": {
        "id": "JdDWtHNjwtbZ"
      },
      "outputs": [],
      "source": [
        "# Inspect the contents - How many pixels does the raster contain?\n",
        "ds"
      ]
    },
    {
      "cell_type": "code",
      "execution_count": null,
      "metadata": {
        "id": "m1mAvYOfxC8P"
      },
      "outputs": [],
      "source": [
        "#The values contained are stored as an array with each value representing one pixel.\n",
        "ds.values"
      ]
    },
    {
      "cell_type": "code",
      "execution_count": null,
      "metadata": {
        "id": "2rpNzr70wzI-"
      },
      "outputs": [],
      "source": [
        "# We can produce a quick map of our data using the plot function\n",
        "ds[0].plot()\n",
        "ax = plt.gca()\n",
        "ax.set_aspect('equal', adjustable='box') #this command will equally space the x and y units"
      ]
    },
    {
      "cell_type": "code",
      "execution_count": null,
      "metadata": {
        "id": "DOXPVMpSFbgm"
      },
      "outputs": [],
      "source": [
        "#check the min, max and mean values\n",
        "print(np.nanmin(ds.values), np.nanmax(ds.values), np.nanmean(ds.values))"
      ]
    },
    {
      "cell_type": "markdown",
      "metadata": {
        "id": "w9VmtK7iF6iJ",
        "vscode": {
          "languageId": "plaintext"
        }
      },
      "source": [
        "<div class=\"alert alert-success\">\n",
        "\n",
        "⚡ **EXERCISE 1**:  \n",
        "\n",
        "Write code to find the min, max and mean for the 1st dekad of 2023\n",
        "\n",
        "Note down the the values (rounded to the nearest integer, no decimals), you will need to enter these in the MOOC quiz.\n",
        "</div>"
      ]
    },
    {
      "cell_type": "code",
      "execution_count": null,
      "metadata": {
        "id": "mGTNUWaFGOSj"
      },
      "outputs": [],
      "source": [
        "## Enter your code here\n",
        "#Open appropriate raster file with rioxarray and convert the nans\n",
        "\n",
        "\n",
        "# Print the min, max and mean values\n"
      ]
    },
    {
      "cell_type": "markdown",
      "metadata": {
        "id": "677nUw2-zmNu"
      },
      "source": [
        "What happens if you do not convert the nans?"
      ]
    },
    {
      "cell_type": "markdown",
      "metadata": {
        "id": "1KfuhfI5vPNg"
      },
      "source": [
        "### **Step 5 - Seasonal AETI from dekadal AETI**\n",
        "We will now create one raster file which contains the seasonal AETI value for our area. For this we simply need to loop through the AETI files, and add up the values.   \n",
        "The glob function allows us to list files in a folder matching a specific pattern.\n",
        "For example:  \n",
        "`glob.glob('/content/content/output/L3-AETI-D/*.tif')  `  \n",
        "\n",
        "will produce a list of all files with the .tif extension contained in the *L3-AETI-D* folder,\n",
        "while:   \n",
        "`glob.glob('/content/content/output/L3-AETI-D/*2022-10*.tif')`\n",
        "\n",
        "will produce a list of all files with the .tif extension which also have the string *202210* in the filename - these will be all of the files from October 2022.\n"
      ]
    },
    {
      "cell_type": "code",
      "execution_count": null,
      "metadata": {
        "id": "ZeuSn7RcGjir"
      },
      "outputs": [],
      "source": [
        "# Example to get files from October 2022\n",
        "glob.glob('/content/content/output/L3-AETI-D/*2022-10*.tif')"
      ]
    },
    {
      "cell_type": "markdown",
      "metadata": {
        "id": "t_r8JZkMIaOG"
      },
      "source": [
        "Let's produce a seasonal file for our whole time period (this will add up all the files in the folder):"
      ]
    },
    {
      "cell_type": "code",
      "execution_count": null,
      "metadata": {
        "id": "1BgbbS-xsUcb"
      },
      "outputs": [],
      "source": [
        "for i, fp in enumerate(glob.glob('/content/content/output/L3-AETI-D/*.tif')):\n",
        "  fn = os.path.basename(fp)\n",
        "  # OPEN DATA\n",
        "  ds = rio.open_rasterio(fp)\n",
        "  ds = ds.where(ds!=ds.attrs['_FillValue'])\n",
        "  if i == 0:\n",
        "    ds_sum = ds #Initialize sum if we are looking at the first raster\n",
        "  else:\n",
        "    ds_sum += ds #This is the python way of writing ds_sum = ds_sum + ds"
      ]
    },
    {
      "cell_type": "code",
      "execution_count": null,
      "metadata": {
        "id": "w4hgHTvLt4-4"
      },
      "outputs": [],
      "source": [
        "ds_sum.plot()\n",
        "ax = plt.gca()\n",
        "ax.set_aspect('equal', adjustable='box') #this command will equally space the x and y units"
      ]
    },
    {
      "cell_type": "markdown",
      "metadata": {
        "id": "oRDApwnf1xd_"
      },
      "source": [
        "If we inspect the Attributes of ds_sum, you will notice they no longer correspond to our dataset - a consequence of this is the wrong legend on the map produced above - **we do not have 1200mm/dekad of AETI!** (note that if you used d_sum = d_sum + ds instead of d_sum += ds, the attributes will simply have been removed in the result).     \n",
        "We can **update the Attributes** below."
      ]
    },
    {
      "cell_type": "code",
      "execution_count": null,
      "metadata": {
        "id": "9ijv8DOi1Yzl"
      },
      "outputs": [],
      "source": [
        "#Inspect Attributes to see which ones we will update\n",
        "attrs = ds_sum.attrs\n",
        "attrs"
      ]
    },
    {
      "cell_type": "code",
      "execution_count": null,
      "metadata": {
        "id": "lr9-f8y088MF"
      },
      "outputs": [],
      "source": [
        "attrs.update({'start_date': '2022-10-01',\n",
        "              'end_date': '2023-04-30',\n",
        "              'units' : 'mm/season'})\n",
        "del attrs['number_of_days']\n",
        "\n",
        "ds_sum.attrs  = attrs"
      ]
    },
    {
      "cell_type": "code",
      "execution_count": null,
      "metadata": {
        "id": "ZD9fvPvv8OMy"
      },
      "outputs": [],
      "source": [
        "ds_sum.plot()\n",
        "ax = plt.gca()\n",
        "ax.set_aspect('equal', adjustable='box') #this command will equally space the x and y units"
      ]
    },
    {
      "cell_type": "markdown",
      "metadata": {
        "id": "SMSxtvTM3OGI"
      },
      "source": [
        "Save the seasonal sum to a TIFF file and download to your local drive.\n",
        "\n",
        "**NOTE** you need this file in [Notebook 03: Calculating areal average values using WaPOR data](https://github.com/wateraccounting/WaPORMOOC/blob/main/3_Python_for_WaPOR/N03_Average_Seasonal_ET.ipynb)"
      ]
    },
    {
      "cell_type": "code",
      "execution_count": null,
      "metadata": {
        "id": "41I7C8U9Bh8c"
      },
      "outputs": [],
      "source": [
        "# Save the seasonal sum to a TIFF file and download to your local drive\n",
        "ds_sum.rio.to_raster(\"Wad_Helal_seasonal_AETI.tif\")\n",
        "files.download(r'/content/Wad_Helal_seasonal_AETI.tif')"
      ]
    },
    {
      "cell_type": "markdown",
      "metadata": {
        "id": "Iw0jUgMzInyM"
      },
      "source": [
        "<div class=\"alert alert-success\">\n",
        "\n",
        "\n",
        "⚡ **EXERCISE 2**:\n",
        "\n",
        "Write code to produce the monthly sum of AETI for April 2023, find the min, max and mean\n",
        "\n",
        "Note down the values (rounded to the nearest integer, no decimals), you will need to enter these in the MOOC quiz!\n",
        "\n",
        "</div>"
      ]
    },
    {
      "cell_type": "code",
      "execution_count": null,
      "metadata": {
        "id": "Aoq-DoLgDoWy"
      },
      "outputs": [],
      "source": [
        "## Enter your code here\n",
        "#Loop through the correct files to produce a sum for April 2023\n",
        "\n",
        "\n",
        "\n",
        "# Print the min, max and mean values\n",
        "\n"
      ]
    },
    {
      "cell_type": "markdown",
      "metadata": {
        "id": "R6rDi2VYHFQF"
      },
      "source": [
        "### **Step 6** - More detailed temporal aggregation\n",
        "So far we have done aggregation for:\n",
        "1.   all files available\n",
        "2.   all files with an easily recognisable pattern in the file name     \n",
        "\n",
        "We will now learn how to select **only files within a specified time period**, for example between the start and end of season.\n",
        "\n",
        "To do this we will:\n",
        "\n",
        "\n",
        "1.   Obtain a list of all dates for the availabile files as datetime objects\n",
        "2.   Define a start and end date\n",
        "3.   Select only files names for which the date falls between the start and end dates\n",
        "\n",
        "To start we will get a list of the filenames and extract the date from the name: you can observe that the date is contained in the last 10 characters before the file extension.\n"
      ]
    },
    {
      "cell_type": "code",
      "execution_count": null,
      "metadata": {
        "id": "39ilmrhnH0Sf"
      },
      "outputs": [],
      "source": [
        "fnames = glob.glob('/content/content/output/L3-AETI-D/*.tif')\n",
        "fnames"
      ]
    },
    {
      "cell_type": "markdown",
      "metadata": {
        "id": "8QCptzvcFaMf"
      },
      "source": [
        "Let's see how we can isolate the date on one filename:"
      ]
    },
    {
      "cell_type": "code",
      "execution_count": null,
      "metadata": {
        "id": "MuLmcQMMH0Y9"
      },
      "outputs": [],
      "source": [
        "path1 = fnames[0]\n",
        "path1"
      ]
    },
    {
      "cell_type": "markdown",
      "metadata": {
        "id": "G0Xt781cIgsb"
      },
      "source": [
        "You should see a path that looks something like:     \n",
        "\n",
        "`/content/content/output/L3-AETI-D/Wad_Helal.GEZ_L3-AETI-D_NONE_dekad_converted_2022-11-21.tif`\n",
        "\n",
        "We want to extract the date, e.g. in this case: '2022-11-21'     \n",
        "Because all of the file names have the same formatting, ending with the date and .tif, we can simply extract the corresponding characters by counting their position from the end of the string:    \n",
        "*   the date is located between the character located 14 positions from the end, and the character located 4 positions from the end.\n",
        "\n",
        "\n",
        "\n"
      ]
    },
    {
      "cell_type": "code",
      "execution_count": null,
      "metadata": {
        "id": "cQSD_bfoH0bt"
      },
      "outputs": [],
      "source": [
        "date0 = path1[-14:-4] #[-14:-4] selects characters in the string: starts at the 14th from the end, to 4th from the end\n",
        "print(date0)"
      ]
    },
    {
      "cell_type": "markdown",
      "metadata": {
        "id": "gGFWH0eaK6ZA"
      },
      "source": [
        "This is now a *string*. In oder to be able to do operations and comparisons between dates, we need to convert it to a datetime object. We can use the datetime library for this.\n",
        "The datetime.strptime function allows us to go from a string to a datetime object, you can read the documentation [here](https://docs.python.org/3/library/datetime.html#strftime-strptime-behavior)."
      ]
    },
    {
      "cell_type": "code",
      "execution_count": null,
      "metadata": {
        "id": "uDjGzWLjK5YD"
      },
      "outputs": [],
      "source": [
        "date0 =  datetime.datetime.strptime(date0, '%Y-%m-%d')\n",
        "date0"
      ]
    },
    {
      "cell_type": "markdown",
      "metadata": {
        "id": "3Ibb482AKT8c"
      },
      "source": [
        "We can now produce a list with all the dates corresponding to our filenames:"
      ]
    },
    {
      "cell_type": "code",
      "execution_count": null,
      "metadata": {
        "id": "Zq7uktywH0eS"
      },
      "outputs": [],
      "source": [
        "file_dates = []\n",
        "for path0 in fnames:\n",
        "  date0 = datetime.datetime.strptime(path0[-14:-4], '%Y-%m-%d')\n",
        "  file_dates.append(date0)"
      ]
    },
    {
      "cell_type": "code",
      "execution_count": null,
      "metadata": {
        "id": "lIQ_fED4H0ig"
      },
      "outputs": [],
      "source": [
        "file_dates"
      ]
    },
    {
      "cell_type": "markdown",
      "metadata": {
        "id": "LAE7HJx2Lz4T"
      },
      "source": [
        "We now have a list of datetimes. Note that this can be done more succintly with the following command:\n",
        "\n",
        "\n",
        "```\n",
        "[fname[-14:-4] for d in fnames]\n",
        "```\n",
        "\n",
        "We will now define the start and end dates of our season and find the files which are located between these dates:\n",
        "\n"
      ]
    },
    {
      "cell_type": "code",
      "execution_count": null,
      "metadata": {
        "id": "eDDiULGmH0ku"
      },
      "outputs": [],
      "source": [
        "sos = datetime.datetime(2022,10,1) #start of season date, we use datetime.datetime to convert the year, month, day to a datetime object\n",
        "eos = datetime.datetime(2023,2,28) #end of season date"
      ]
    },
    {
      "cell_type": "markdown",
      "metadata": {
        "id": "-IcxVJYgOe5I"
      },
      "source": [
        "Finally, we will check which dates from our list fall between the start and end date so we can select only the filenames corresponding to our season.      \n",
        "\n",
        "**Note**: this is a simplified code and it does not a) Check whether all files from the season are present b) Deal with seasons which do not start and end at the beginning and end of a dekad"
      ]
    },
    {
      "cell_type": "code",
      "execution_count": null,
      "metadata": {
        "id": "sqYVbigJO9ln"
      },
      "outputs": [],
      "source": [
        "selected_files = []\n",
        "for i, date in enumerate(file_dates):\n",
        "  if (date >= sos and date < eos):\n",
        "    selected_files.append(fnames[i])\n",
        "selected_files"
      ]
    },
    {
      "cell_type": "markdown",
      "metadata": {
        "id": "3D27-E-lUIR0"
      },
      "source": [
        "It can be hard to check if all the files you want are there as they are not sorted, to adjust this you can simply run the following:"
      ]
    },
    {
      "cell_type": "code",
      "execution_count": null,
      "metadata": {
        "id": "5zNuluWVUQwh"
      },
      "outputs": [],
      "source": [
        "sorted(selected_files)"
      ]
    },
    {
      "cell_type": "markdown",
      "metadata": {
        "id": "btthLnT6UWlj"
      },
      "source": [
        "If you are interested, another, more elegant way to achieve this result can be done with the following code:\n",
        "```\n",
        "mask = [(ds >= sos and ds < eos) for ds in file_dates]\n",
        "fnames_array = np.array(fnames)\n",
        "selected_files = fnames_array[mask]\n",
        "```\n",
        "\n"
      ]
    },
    {
      "cell_type": "markdown",
      "metadata": {
        "id": "EqQM9a1WU5rU"
      },
      "source": [
        "<div class=\"alert alert-success\">\n",
        "\n",
        "⚡ **BONUS**:\n",
        "\n",
        "Write code to produce the sum of AETI for the period between 21/01/2023 and 10/04/2023, find the min, max and mean\n",
        "\n",
        "\n",
        "\n",
        "</div>"
      ]
    },
    {
      "cell_type": "code",
      "execution_count": null,
      "metadata": {
        "id": "v9B89iUkVKM8"
      },
      "outputs": [],
      "source": [
        "## Enter your code here \n",
        "#Create the list of files for the season between 21/01/2023 and 10/04/2023\n",
        "\n",
        "\n",
        "\n",
        "#Compute the sum\n",
        "\n",
        "\n",
        "\n",
        "# Print the min, max and mean values\n"
      ]
    },
    {
      "cell_type": "markdown",
      "metadata": {
        "id": "WUGQjRs9zphX"
      },
      "source": [
        "**Review the data in QGIS**\n",
        "\n",
        "Open the seasonal AETI file you have downloaded in QGIS as well as the shapefile for the area.  \n"
      ]
    },
    {
      "cell_type": "markdown",
      "metadata": {
        "id": "PXCuDE5YBBhu"
      },
      "source": [
        "<div class=\"alert alert-success\">\n",
        "\n",
        "⚡ **Quiz questions**:\n",
        "  \n",
        "1. What difference did you notice between the geojson vector file and the raster file from WaPOR?\n",
        ">a.   The raster file is shifted     \n",
        "b.   The polygon has a larger extent than the raster.    \n",
        "c.   The raster has a larger extent than the polygon       \n",
        "\n",
        "2. To what do you think this difference can be attributed to?\n",
        ">a.   The raster and geojson have different projections     \n",
        "b.   The WaPOR L3 data does not cover the whole extent of the geojson file.    \n",
        "c.   The raster and geojson have different spatial resolutions    \n",
        "\n",
        "⚡ You will need the answers to these questions in the MOOC Quiz\n",
        "\n",
        "</div>"
      ]
    },
    {
      "cell_type": "code",
      "execution_count": null,
      "metadata": {
        "id": "DbfkBOk009Aa"
      },
      "outputs": [],
      "source": []
    }
  ],
  "metadata": {
    "colab": {
      "provenance": []
    },
    "kernelspec": {
      "display_name": "Python 3",
      "name": "python3"
    },
    "language_info": {
      "name": "python"
    }
  },
  "nbformat": 4,
  "nbformat_minor": 0
}
